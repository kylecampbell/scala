{
 "cells": [
  {
   "cell_type": "code",
   "execution_count": 295,
   "metadata": {
    "collapsed": true
   },
   "outputs": [],
   "source": [
    "import org.apache.spark.sql.types.{StructField, StructType, DoubleType, IntegerType}\n",
    "import org.apache.spark.sql.functions._\n",
    "import org.apache.spark.sql.DataFrameNaFunctions\n",
    "import org.apache.spark.ml.feature.RFormula\n",
    "import org.apache.spark.ml.classification.LogisticRegression\n",
    "import org.apache.spark.ml.classification.DecisionTreeClassifier\n",
    "\n",
    "val schema = new StructType(Array(\n",
    "    new StructField(\"survived\", StringType, true),\n",
    "    new StructField(\"sex\", StringType, true),\n",
    "    new StructField(\"age\", IntegerType, true),\n",
    "    new StructField(\"pclass\", StringType, true),\n",
    "    new StructField(\"name\", StringType, true),\n",
    "    new StructField(\"sibsp\", IntegerType, true),\n",
    "    new StructField(\"parch\", IntegerType, true),\n",
    "    new StructField(\"ticket\", IntegerType, true),\n",
    "    new StructField(\"fare\", DoubleType, true),\n",
    "    new StructField(\"cabin\", StringType, true),\n",
    "    new StructField(\"embarked\", StringType, true),\n",
    "    new StructField(\"boat\", IntegerType, true),\n",
    "    new StructField(\"body\", StringType, true),\n",
    "    new StructField(\"home_dest\", StringType, true)\n",
    "))\n",
    "\n",
    "val data = spark.read.format(\"csv\").schema(schema).option(\"header\",true).option(\"sep\",\"\\t\").load(\"titanic.tsv\")"
   ]
  },
  {
   "cell_type": "code",
   "execution_count": 215,
   "metadata": {},
   "outputs": [
    {
     "name": "stdout",
     "output_type": "stream",
     "text": [
      "+--------+------+---+------+--------------------+-----+-----+------+--------+-----+--------+----+----+------------+\n",
      "|survived|   sex|age|pclass|                name|sibsp|parch|ticket|    fare|cabin|embarked|boat|body|   home_dest|\n",
      "+--------+------+---+------+--------------------+-----+-----+------+--------+-----+--------+----+----+------------+\n",
      "|       y|female| 29| first|Allen, Miss. Elis...|    0|    0| 24160|211.3375|   B5|       S|   2|null|St Louis, MO|\n",
      "+--------+------+---+------+--------------------+-----+-----+------+--------+-----+--------+----+----+------------+\n",
      "only showing top 1 row\n",
      "\n"
     ]
    }
   ],
   "source": [
    "data.show(1)"
   ]
  },
  {
   "cell_type": "markdown",
   "metadata": {},
   "source": [
    "# 1.  \n",
    "Did age have any affect on the survival of the passengers? Divide the passengers into age  \n",
    "groups spanning 5 years each - \\[0, 5), \\[5, 10), \\[10, 15), … . For each group compute the  \n",
    "number of passengers in each group. Then compute the percent of survivors in each group."
   ]
  },
  {
   "cell_type": "code",
   "execution_count": 218,
   "metadata": {
    "collapsed": true
   },
   "outputs": [],
   "source": [
    "def ageRangeSurvived(A: Int, B: Int) = {\n",
    "    val dropped = data.na.drop(\"any\",Seq(\"age\"))\n",
    "    val count = dropped.filter(f\"age >= $A AND age < $B\").count.toFloat\n",
    "    val surv = dropped.filter(f\"age >= $A AND age < $B\").filter(\"survived == 'y'\").count.toFloat\n",
    "    \n",
    "    println(f\"ages $A to $B count: $count\")\n",
    "    println(f\"survived count: $surv\")\n",
    "    println(f\"percent survived: ${surv/count}\\n\")\n",
    "}"
   ]
  },
  {
   "cell_type": "code",
   "execution_count": 219,
   "metadata": {},
   "outputs": [
    {
     "name": "stdout",
     "output_type": "stream",
     "text": [
      "ages 0 to 5 count: 39.0\n",
      "survived count: 23.0\n",
      "percent survived: 0.5897436\n",
      "\n",
      "ages 5 to 10 count: 31.0\n",
      "survived count: 17.0\n",
      "percent survived: 0.5483871\n",
      "\n",
      "ages 10 to 15 count: 24.0\n",
      "survived count: 11.0\n",
      "percent survived: 0.45833334\n",
      "\n",
      "ages 15 to 20 count: 113.0\n",
      "survived count: 45.0\n",
      "percent survived: 0.39823008\n",
      "\n",
      "ages 20 to 25 count: 180.0\n",
      "survived count: 71.0\n",
      "percent survived: 0.39444444\n",
      "\n",
      "ages 25 to 30 count: 156.0\n",
      "survived count: 56.0\n",
      "percent survived: 0.35897437\n",
      "\n",
      "ages 30 to 35 count: 124.0\n",
      "survived count: 53.0\n",
      "percent survived: 0.42741936\n",
      "\n",
      "ages 35 to 40 count: 97.0\n",
      "survived count: 43.0\n",
      "percent survived: 0.44329897\n",
      "\n",
      "ages 40 to 45 count: 66.0\n",
      "survived count: 20.0\n",
      "percent survived: 0.3030303\n",
      "\n",
      "ages 45 to 50 count: 64.0\n",
      "survived count: 32.0\n",
      "percent survived: 0.5\n",
      "\n",
      "ages 50 to 55 count: 43.0\n",
      "survived count: 21.0\n",
      "percent survived: 0.4883721\n",
      "\n",
      "ages 55 to 60 count: 26.0\n",
      "survived count: 11.0\n",
      "percent survived: 0.42307693\n",
      "\n",
      "ages 60 to 65 count: 26.0\n",
      "survived count: 10.0\n",
      "percent survived: 0.3846154\n",
      "\n",
      "ages 65 to 70 count: 5.0\n",
      "survived count: 0.0\n",
      "percent survived: 0.0\n",
      "\n",
      "ages 70 to 75 count: 5.0\n",
      "survived count: 0.0\n",
      "percent survived: 0.0\n",
      "\n",
      "ages 75 to 80 count: 1.0\n",
      "survived count: 1.0\n",
      "percent survived: 1.0\n",
      "\n"
     ]
    }
   ],
   "source": [
    "var age = 0\n",
    "while (age+5 <= 80) {\n",
    "    ageRangeSurvived(age, age+5)\n",
    "    age+=5\n",
    "}"
   ]
  },
  {
   "cell_type": "markdown",
   "metadata": {},
   "source": [
    "# 2.  \n",
    "Logistic on age. Using logistic regression with independent variable age and dependent  \n",
    "variable survived create a model to classify passengers as survivors."
   ]
  },
  {
   "cell_type": "code",
   "execution_count": 246,
   "metadata": {},
   "outputs": [
    {
     "name": "stdout",
     "output_type": "stream",
     "text": [
      "30\n"
     ]
    }
   ],
   "source": [
    "val avgAge = data.select(mean(\"age\")).first().getDouble(0).round\n",
    "println(avgAge)"
   ]
  },
  {
   "cell_type": "code",
   "execution_count": 281,
   "metadata": {
    "collapsed": true
   },
   "outputs": [],
   "source": [
    "val survAge = data.select(\"survived\",\"age\")"
   ]
  },
  {
   "cell_type": "code",
   "execution_count": 282,
   "metadata": {
    "collapsed": true
   },
   "outputs": [],
   "source": [
    "// Filling null with avg age wasn't working, so dropped instead\n",
    "//val fillAge = survAge.na.fill(avgAge,Seq(\"age\"))\n",
    "//fillAge.show(5)\n",
    "\n",
    "val dropAge = survAge.na.drop(\"any\",Seq(\"age\"))"
   ]
  },
  {
   "cell_type": "code",
   "execution_count": 283,
   "metadata": {
    "collapsed": true
   },
   "outputs": [],
   "source": [
    "val myFormala = new RFormula().setFormula(\"survived ~ age\") \n",
    "val fittedRF = myFormala.fit(dropAge)\n",
    "val preparedDF = fittedRF.transform(dropAge)\n",
    "\n",
    "val Array(train, test) = preparedDF.randomSplit(Array(0.7, 0.3))"
   ]
  },
  {
   "cell_type": "code",
   "execution_count": 284,
   "metadata": {
    "collapsed": true
   },
   "outputs": [],
   "source": [
    "val lr = new LogisticRegression()\n",
    "val lrModel = lr.fit(train)"
   ]
  },
  {
   "cell_type": "code",
   "execution_count": 285,
   "metadata": {},
   "outputs": [
    {
     "name": "stdout",
     "output_type": "stream",
     "text": [
      "Coefficients: [-0.0029284445414183716] Intercept: -0.3169927674483765\n"
     ]
    }
   ],
   "source": [
    "println(s\"Coefficients: ${lrModel.coefficients} Intercept: ${lrModel.intercept}\")"
   ]
  },
  {
   "cell_type": "code",
   "execution_count": 286,
   "metadata": {},
   "outputs": [
    {
     "name": "stdout",
     "output_type": "stream",
     "text": [
      "+-----+------+\n",
      "|label|Errors|\n",
      "+-----+------+\n",
      "|  1.0|   135|\n",
      "+-----+------+\n",
      "\n"
     ]
    }
   ],
   "source": [
    "val predictions = lrModel.evaluate(test).predictions\n",
    "val wrongPredictions = predictions.where(expr(\"label != prediction\"))\n",
    "\n",
    "val countErrors = wrongPredictions.groupBy(\"label\").agg(count(\"prediction\").alias(\"Errors\"))\n",
    "countErrors.show"
   ]
  },
  {
   "cell_type": "code",
   "execution_count": 287,
   "metadata": {},
   "outputs": [
    {
     "name": "stdout",
     "output_type": "stream",
     "text": [
      "+-----+-------+\n",
      "|label|Correct|\n",
      "+-----+-------+\n",
      "|  0.0|    166|\n",
      "+-----+-------+\n",
      "\n"
     ]
    }
   ],
   "source": [
    "val rightPredictions = predictions.where(expr(\"label == prediction\"))\n",
    "val countCorrect = rightPredictions.groupBy(\"label\").agg(count(\"prediction\").alias(\"Correct\"))\n",
    "countCorrect.show"
   ]
  },
  {
   "cell_type": "markdown",
   "metadata": {},
   "source": [
    "# 3.  \n",
    "Logistic on age, sex and pclass. Same as problem two but use independent variables sex,  \n",
    "age, and pclass. Since sex and pclass are categorical they need special treatment.  "
   ]
  },
  {
   "cell_type": "code",
   "execution_count": 289,
   "metadata": {
    "collapsed": true
   },
   "outputs": [],
   "source": [
    "val ageSexPcl = data.select(\"survived\",\"age\",\"sex\",\"pclass\")"
   ]
  },
  {
   "cell_type": "code",
   "execution_count": 290,
   "metadata": {
    "collapsed": true
   },
   "outputs": [],
   "source": [
    "val dropP3 = ageSexPcl.na.drop(\"any\",Seq(\"age\"))"
   ]
  },
  {
   "cell_type": "code",
   "execution_count": 291,
   "metadata": {
    "collapsed": true
   },
   "outputs": [],
   "source": [
    "val myFormala = new RFormula().setFormula(\"survived ~ age + sex + pclass\") \n",
    "val fittedRF = myFormala.fit(dropP3)\n",
    "val preparedDF = fittedRF.transform(dropP3)\n",
    "\n",
    "val Array(train, test) = preparedDF.randomSplit(Array(0.7, 0.3))"
   ]
  },
  {
   "cell_type": "code",
   "execution_count": 292,
   "metadata": {},
   "outputs": [
    {
     "name": "stdout",
     "output_type": "stream",
     "text": [
      "Coefficients: [-0.03584821831384887,-2.423412661170741,-1.0407856587945303,1.360953595290399] Intercept: 2.262976288959575\n"
     ]
    }
   ],
   "source": [
    "val lr = new LogisticRegression()\n",
    "val lrModel = lr.fit(train)\n",
    "\n",
    "println(s\"Coefficients: ${lrModel.coefficients} Intercept: ${lrModel.intercept}\")"
   ]
  },
  {
   "cell_type": "code",
   "execution_count": 293,
   "metadata": {},
   "outputs": [
    {
     "name": "stdout",
     "output_type": "stream",
     "text": [
      "+-----+------+\n",
      "|label|Errors|\n",
      "+-----+------+\n",
      "|  0.0|    31|\n",
      "|  1.0|    31|\n",
      "+-----+------+\n",
      "\n"
     ]
    }
   ],
   "source": [
    "val predictions = lrModel.evaluate(test).predictions\n",
    "val wrongPredictions = predictions.where(expr(\"label != prediction\"))\n",
    "val countErrors = wrongPredictions.groupBy(\"label\").agg(count(\"prediction\").alias(\"Errors\"))\n",
    "countErrors.show"
   ]
  },
  {
   "cell_type": "code",
   "execution_count": 294,
   "metadata": {},
   "outputs": [
    {
     "name": "stdout",
     "output_type": "stream",
     "text": [
      "+-----+-------+\n",
      "|label|Correct|\n",
      "+-----+-------+\n",
      "|  0.0|    143|\n",
      "|  1.0|     88|\n",
      "+-----+-------+\n",
      "\n"
     ]
    }
   ],
   "source": [
    "val rightPredictions = predictions.where(expr(\"label == prediction\"))\n",
    "val countCorrect = rightPredictions.groupBy(\"label\").agg(count(\"prediction\").alias(\"Correct\"))\n",
    "countCorrect.show"
   ]
  },
  {
   "cell_type": "markdown",
   "metadata": {},
   "source": [
    "# 4.  \n",
    "Decision tree. Instead of using logistic regression use Decision tree with the independent  \n",
    "variables sex, age, and pclass.  "
   ]
  },
  {
   "cell_type": "code",
   "execution_count": 296,
   "metadata": {
    "collapsed": true
   },
   "outputs": [],
   "source": [
    "val decTree = data.select(\"survived\",\"age\",\"sex\",\"pclass\")\n",
    "val dropP4 = decTree.na.drop(\"any\",Seq(\"age\"))"
   ]
  },
  {
   "cell_type": "code",
   "execution_count": 297,
   "metadata": {
    "collapsed": true
   },
   "outputs": [],
   "source": [
    "val myFormala = new RFormula().setFormula(\"survived ~ age + sex + pclass\") \n",
    "val fittedRF = myFormala.fit(dropP4)\n",
    "val preparedDF = fittedRF.transform(dropP4)\n",
    "\n",
    "val Array(train, test) = preparedDF.randomSplit(Array(0.7, 0.3))"
   ]
  },
  {
   "cell_type": "code",
   "execution_count": 298,
   "metadata": {
    "collapsed": true
   },
   "outputs": [],
   "source": [
    "val dt = new DecisionTreeClassifier()\n",
    "val dtModel = dt.fit(train)"
   ]
  },
  {
   "cell_type": "code",
   "execution_count": 299,
   "metadata": {},
   "outputs": [
    {
     "name": "stdout",
     "output_type": "stream",
     "text": [
      "+-----+------+\n",
      "|label|Errors|\n",
      "+-----+------+\n",
      "|  0.0|    19|\n",
      "|  1.0|    46|\n",
      "+-----+------+\n",
      "\n"
     ]
    }
   ],
   "source": [
    "val predictions = dtModel.transform(test)\n",
    "val wrongPredictions = predictions.where(expr(\"label != prediction\"))\n",
    "val countErrors = wrongPredictions.groupBy(\"label\").agg(count(\"prediction\").alias(\"Errors\"))\n",
    "countErrors.show"
   ]
  },
  {
   "cell_type": "code",
   "execution_count": 300,
   "metadata": {},
   "outputs": [
    {
     "name": "stdout",
     "output_type": "stream",
     "text": [
      "+-----+-------+\n",
      "|label|Correct|\n",
      "+-----+-------+\n",
      "|  0.0|    150|\n",
      "|  1.0|     76|\n",
      "+-----+-------+\n",
      "\n"
     ]
    }
   ],
   "source": [
    "val rightPredictions = predictions.where(expr(\"label == prediction\"))\n",
    "val countCorrect = rightPredictions.groupBy(\"label\").agg(count(\"prediction\").alias(\"Correct\"))\n",
    "countCorrect.show"
   ]
  },
  {
   "cell_type": "markdown",
   "metadata": {},
   "source": [
    "# 5.  \n",
    "How do the models created in problems 2-4 compare based on the false positives & false  \n",
    "negatives the produce on your test data."
   ]
  },
  {
   "cell_type": "markdown",
   "metadata": {},
   "source": [
    "Problem 2: Logistic Regression (survived ~ age)  \n",
    "  - accuracy = 55.15%  \n",
    "  - false pos = 44.85%  \n",
    "  - false neg = 0%  \n",
    "  \n",
    "Problem 3: Logistic Regression (survived ~ age + sex + pclass)  \n",
    "  - accuracy = 78.84%  \n",
    "  - false pos = 17.82%  \n",
    "  - false neg = 26.05%  \n",
    "  \n",
    "Problem 4: Decision Tree (survived ~ age + sex + pclass)  \n",
    "  - accuracy = 77.66%  \n",
    "  - false pos = 23.47%  \n",
    "  - false neg = 20.00%  "
   ]
  },
  {
   "cell_type": "code",
   "execution_count": null,
   "metadata": {
    "collapsed": true
   },
   "outputs": [],
   "source": []
  }
 ],
 "metadata": {
  "kernelspec": {
   "display_name": "Scala",
   "language": "scala",
   "name": "scala"
  },
  "language_info": {
   "codemirror_mode": "text/x-scala",
   "file_extension": ".scala",
   "mimetype": "text/x-scala",
   "name": "scala211",
   "nbconvert_exporter": "script",
   "pygments_lexer": "scala",
   "version": "2.11.11"
  }
 },
 "nbformat": 4,
 "nbformat_minor": 2
}
