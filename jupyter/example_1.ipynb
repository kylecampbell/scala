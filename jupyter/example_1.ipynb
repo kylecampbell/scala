{
 "cells": [
  {
   "cell_type": "markdown",
   "metadata": {},
   "source": [
    "## 1.  \n",
    "If we list all the natural numbers below 20 that are multiples of 3 or 5 but not multiples both\n",
    "of 3 and 5, we get 3, 5, 6, 9, 10, 12, 18. The sum of these multiples is 63. Write a function,\n",
    "sum_multiples_3_5, that returns the sum of the multiples of 3 and 5 less than N."
   ]
  },
  {
   "cell_type": "code",
   "execution_count": 14,
   "metadata": {},
   "outputs": [
    {
     "data": {
      "text/plain": [
       "defined \u001b[32mfunction\u001b[39m \u001b[36msum_multiples_3_5\u001b[39m"
      ]
     },
     "execution_count": 14,
     "metadata": {},
     "output_type": "execute_result"
    }
   ],
   "source": [
    "def sum_multiples_3_5(N: Int) = {\n",
    "    var sum = 0\n",
    "    var both = false\n",
    "    for (i <- 0 to N-1) {\n",
    "        both = false\n",
    "        if ((i%3==0) && (i%5==0)) both = true\n",
    "        if (both==false) {\n",
    "            if ((i%3==0) || (i%5==0)) sum += i\n",
    "        }\n",
    "    }\n",
    "    sum\n",
    "}"
   ]
  },
  {
   "cell_type": "code",
   "execution_count": 15,
   "metadata": {},
   "outputs": [
    {
     "data": {
      "text/plain": [
       "\u001b[36mres14_0\u001b[39m: \u001b[32mInt\u001b[39m = \u001b[32m63\u001b[39m\n",
       "\u001b[36mres14_1\u001b[39m: \u001b[32mInt\u001b[39m = \u001b[32m45\u001b[39m\n",
       "\u001b[36mres14_2\u001b[39m: \u001b[32mInt\u001b[39m = \u001b[32m14\u001b[39m"
      ]
     },
     "execution_count": 15,
     "metadata": {},
     "output_type": "execute_result"
    }
   ],
   "source": [
    "sum_multiples_3_5(20)\n",
    "sum_multiples_3_5(15)\n",
    "sum_multiples_3_5(9)"
   ]
  },
  {
   "cell_type": "markdown",
   "metadata": {},
   "source": [
    "## 2.  \n",
    "Write a function, patternCount with two arguments. The first arguments is a string, lets call\n",
    "it text, and the second argument is also a string, call it pattern. The function patternCount\n",
    "returns the number of times the pattern occurs in the text. For example  \n",
    "  * pattern_count(“abababa”, “aba”) == 3  \n",
    "  * pattern_count(“aaaaa”, “aa”) == 4  \n",
    "  * pattern_count(“Abcde”, “abc”) == 0"
   ]
  },
  {
   "cell_type": "code",
   "execution_count": 1,
   "metadata": {},
   "outputs": [
    {
     "data": {
      "text/plain": [
       "defined \u001b[32mfunction\u001b[39m \u001b[36mpatternCount\u001b[39m"
      ]
     },
     "execution_count": 1,
     "metadata": {},
     "output_type": "execute_result"
    }
   ],
   "source": [
    "def patternCount(text: String, pattern: String) = {\n",
    "    var count = 0\n",
    "    val lenPat = pattern.length\n",
    "    for (i <- 0 to text.length-lenPat) {\n",
    "        if (text.slice(i, i+lenPat) == pattern) count += 1\n",
    "    }\n",
    "    count\n",
    "}"
   ]
  },
  {
   "cell_type": "code",
   "execution_count": 2,
   "metadata": {},
   "outputs": [
    {
     "data": {
      "text/plain": [
       "\u001b[36mres1_0\u001b[39m: \u001b[32mInt\u001b[39m = \u001b[32m3\u001b[39m\n",
       "\u001b[36mres1_1\u001b[39m: \u001b[32mInt\u001b[39m = \u001b[32m4\u001b[39m\n",
       "\u001b[36mres1_2\u001b[39m: \u001b[32mInt\u001b[39m = \u001b[32m0\u001b[39m"
      ]
     },
     "execution_count": 2,
     "metadata": {},
     "output_type": "execute_result"
    }
   ],
   "source": [
    "patternCount(\"abababa\", \"aba\")\n",
    "patternCount(\"aaaaa\", \"aa\")\n",
    "patternCount(\"Abcsde\", \"abc\")"
   ]
  },
  {
   "cell_type": "markdown",
   "metadata": {},
   "source": [
    "## 3.  \n",
    "Write a function product(s : String) that returns the product of the Unicode codes of all letters\n",
    "in string s without using a loop."
   ]
  },
  {
   "cell_type": "code",
   "execution_count": 28,
   "metadata": {},
   "outputs": [
    {
     "data": {
      "text/plain": [
       "defined \u001b[32mfunction\u001b[39m \u001b[36mproduct\u001b[39m"
      ]
     },
     "execution_count": 28,
     "metadata": {},
     "output_type": "execute_result"
    }
   ],
   "source": [
    "def product(s: String): scala.math.BigInt = s.map(_.toLong).product"
   ]
  },
  {
   "cell_type": "code",
   "execution_count": 30,
   "metadata": {},
   "outputs": [
    {
     "data": {
      "text/plain": [
       "\u001b[36mres29_0\u001b[39m: \u001b[32mBigInt\u001b[39m = 10920\n",
       "\u001b[36mres29_1\u001b[39m: \u001b[32mBigInt\u001b[39m = 13599570816\n",
       "\u001b[36mres29_2\u001b[39m: \u001b[32mBigInt\u001b[39m = 570596349891330048"
      ]
     },
     "execution_count": 30,
     "metadata": {},
     "output_type": "execute_result"
    }
   ],
   "source": [
    "product(\"hi\")\n",
    "product(\"hello\")\n",
    "product(\"hey there\")"
   ]
  },
  {
   "cell_type": "markdown",
   "metadata": {},
   "source": [
    "## 4.  \n",
    "Write a function noDuplicates(ints : Array[Int]) that returns an array all values from the array\n",
    "ints with duplicates removed."
   ]
  },
  {
   "cell_type": "code",
   "execution_count": 5,
   "metadata": {},
   "outputs": [
    {
     "data": {
      "text/plain": [
       "defined \u001b[32mfunction\u001b[39m \u001b[36mnoDuplicates\u001b[39m"
      ]
     },
     "execution_count": 5,
     "metadata": {},
     "output_type": "execute_result"
    }
   ],
   "source": [
    "def noDuplicates(ints: Array[Int]) = ints.distinct"
   ]
  },
  {
   "cell_type": "code",
   "execution_count": 6,
   "metadata": {},
   "outputs": [
    {
     "data": {
      "text/plain": [
       "\u001b[36mres5\u001b[39m: \u001b[32mArray\u001b[39m[\u001b[32mInt\u001b[39m] = \u001b[33mArray\u001b[39m(\u001b[32m1\u001b[39m, \u001b[32m4\u001b[39m, \u001b[32m5\u001b[39m, \u001b[32m2\u001b[39m, \u001b[32m10\u001b[39m, \u001b[32m7\u001b[39m, \u001b[32m9\u001b[39m)"
      ]
     },
     "execution_count": 6,
     "metadata": {},
     "output_type": "execute_result"
    }
   ],
   "source": [
    "noDuplicates(Array(1, 4, 5, 2, 2, 10, 7, 7, 7, 1, 9))"
   ]
  },
  {
   "cell_type": "markdown",
   "metadata": {},
   "source": [
    "## 5.  \n",
    "Create an array that contains the value 0.00001f repeated 1000000 times. Sum up all the\n",
    "elements of the array. What is the result? How big is the error?"
   ]
  },
  {
   "cell_type": "code",
   "execution_count": 16,
   "metadata": {},
   "outputs": [
    {
     "name": "stdout",
     "output_type": "stream",
     "text": [
      "result: 9.91734504699707\n",
      "error: 0.08265495300293\n"
     ]
    },
    {
     "data": {
      "text/plain": [
       "\u001b[36marr\u001b[39m: \u001b[32mArray\u001b[39m[\u001b[32mFloat\u001b[39m] = \u001b[33mArray\u001b[39m(\n",
       "  \u001b[32m1.0E-5F\u001b[39m,\n",
       "  \u001b[32m1.0E-5F\u001b[39m,\n",
       "  \u001b[32m1.0E-5F\u001b[39m,\n",
       "  \u001b[32m1.0E-5F\u001b[39m,\n",
       "  \u001b[32m1.0E-5F\u001b[39m,\n",
       "  \u001b[32m1.0E-5F\u001b[39m,\n",
       "  \u001b[32m1.0E-5F\u001b[39m,\n",
       "  \u001b[32m1.0E-5F\u001b[39m,\n",
       "  \u001b[32m1.0E-5F\u001b[39m,\n",
       "  \u001b[32m1.0E-5F\u001b[39m,\n",
       "  \u001b[32m1.0E-5F\u001b[39m,\n",
       "\u001b[33m...\u001b[39m\n",
       "\u001b[36msum\u001b[39m: \u001b[32mBigDecimal\u001b[39m = 9.91734504699707\n",
       "\u001b[36merr\u001b[39m: \u001b[32mBigDecimal\u001b[39m = 0.08265495300293"
      ]
     },
     "execution_count": 16,
     "metadata": {},
     "output_type": "execute_result"
    }
   ],
   "source": [
    "val arr = Array.fill(1000000)(0.00001f)\n",
    "val sum: scala.math.BigDecimal = arr.sum\n",
    "val err: scala.math.BigDecimal = 1000000*0.00001 - sum\n",
    "\n",
    "println(f\"result: $sum\")\n",
    "println(f\"error: $err\")"
   ]
  },
  {
   "cell_type": "markdown",
   "metadata": {},
   "source": [
    "## 6.  \n",
    "Using Scala compute the sums 0.0001f + 8000.0f and 0.000000001 + 90000000. What is\n",
    "the result? How big is the error?"
   ]
  },
  {
   "cell_type": "code",
   "execution_count": 17,
   "metadata": {},
   "outputs": [
    {
     "name": "stdout",
     "output_type": "stream",
     "text": [
      "result 1: 8000.0\n",
      "error 1: 0.0001 \n",
      "\n",
      "result 2: 9.0E+7\n",
      "error 2: 0E+6\n"
     ]
    },
    {
     "data": {
      "text/plain": [
       "\u001b[36msum1\u001b[39m: \u001b[32mBigDecimal\u001b[39m = 8000.0\n",
       "\u001b[36merr1\u001b[39m: \u001b[32mBigDecimal\u001b[39m = 0.0001\n",
       "\u001b[36msum2\u001b[39m: \u001b[32mBigDecimal\u001b[39m = 9.0E+7\n",
       "\u001b[36merr2\u001b[39m: \u001b[32mBigDecimal\u001b[39m = 0E+6"
      ]
     },
     "execution_count": 17,
     "metadata": {},
     "output_type": "execute_result"
    }
   ],
   "source": [
    "val sum1: scala.math.BigDecimal = 0.0001f + 8000.0f\n",
    "val err1: scala.math.BigDecimal = (0.0001 + 8000.0) - sum1\n",
    "val sum2: scala.math.BigDecimal = 0.000000001 + 90000000\n",
    "val err2: scala.math.BigDecimal = (0.000000001 + 90000000) - sum2\n",
    "\n",
    "println(f\"result 1: $sum1\")\n",
    "println(f\"error 1: $err1 \\n\")\n",
    "println(f\"result 2: $sum2\")\n",
    "println(f\"error 2: $err2\")"
   ]
  },
  {
   "cell_type": "markdown",
   "metadata": {},
   "source": [
    "## 7.  \n",
    "Write a function randomInts(n:Int, range:Int) that returns an array of n integers all between\n",
    "0 and range."
   ]
  },
  {
   "cell_type": "code",
   "execution_count": 1,
   "metadata": {},
   "outputs": [
    {
     "data": {
      "text/plain": [
       "defined \u001b[32mfunction\u001b[39m \u001b[36mrandomInts\u001b[39m"
      ]
     },
     "execution_count": 1,
     "metadata": {},
     "output_type": "execute_result"
    }
   ],
   "source": [
    "def randomInts(n: Int, range: Int) = Array.fill(n)(range * math.random).map(_.toInt)"
   ]
  },
  {
   "cell_type": "code",
   "execution_count": 4,
   "metadata": {},
   "outputs": [
    {
     "data": {
      "text/plain": [
       "\u001b[36mres3_0\u001b[39m: \u001b[32mArray\u001b[39m[\u001b[32mInt\u001b[39m] = \u001b[33mArray\u001b[39m(\u001b[32m89\u001b[39m, \u001b[32m19\u001b[39m, \u001b[32m38\u001b[39m, \u001b[32m98\u001b[39m, \u001b[32m17\u001b[39m)\n",
       "\u001b[36mres3_1\u001b[39m: \u001b[32mArray\u001b[39m[\u001b[32mInt\u001b[39m] = \u001b[33mArray\u001b[39m(\u001b[32m948\u001b[39m, \u001b[32m444\u001b[39m, \u001b[32m954\u001b[39m, \u001b[32m132\u001b[39m, \u001b[32m386\u001b[39m, \u001b[32m62\u001b[39m, \u001b[32m491\u001b[39m, \u001b[32m146\u001b[39m, \u001b[32m829\u001b[39m, \u001b[32m605\u001b[39m)"
      ]
     },
     "execution_count": 4,
     "metadata": {},
     "output_type": "execute_result"
    }
   ],
   "source": [
    "randomInts(5, 100)\n",
    "randomInts(10, 1000)"
   ]
  },
  {
   "cell_type": "markdown",
   "metadata": {},
   "source": [
    "## 8.  \n",
    "Create three files with random integers in the range 0 to Int.MaxValue/2. The first file contains\n",
    "1,000 integers, the second 100,000 integers, the third 10,000,000 integers. Write\n",
    "scala code to find the average and median value for each file. What are the average and\n",
    "median value for each file? How long does it take compute those values for each file?"
   ]
  },
  {
   "cell_type": "code",
   "execution_count": 2,
   "metadata": {},
   "outputs": [
    {
     "name": "stdout",
     "output_type": "stream",
     "text": [
      "File 1 Time: 5195404 (ns)\n",
      "File 1 Average: 562432928\n",
      "File 1 Median: 586074514 \n",
      "\n",
      "File 2 Time: 106149667 (ns)\n",
      "File 2 Average: 537402465\n",
      "File 2 Median: 536544954 \n",
      "\n",
      "File 3 Time: 13997167115 (ns)\n",
      "File 3 Average: 536940190\n",
      "File 3 Median: 536983426 \n",
      "\n"
     ]
    },
    {
     "data": {
      "text/plain": [
       "\u001b[36marr1\u001b[39m: \u001b[32mString\u001b[39m = \u001b[32m\"\"\"\n",
       "546437325\n",
       "893189154\n",
       "726009211\n",
       "245638421\n",
       "852698713\n",
       "698221463\n",
       "548327477\n",
       "844053149\n",
       "644058899\n",
       "461425427\n",
       "446291870\n",
       "\u001b[33m...\u001b[39m\n",
       "\u001b[36marr2\u001b[39m: \u001b[32mString\u001b[39m = \u001b[32m\"\"\"\n",
       "1027155436\n",
       "350480921\n",
       "19088941\n",
       "597776410\n",
       "779639926\n",
       "884391084\n",
       "467040257\n",
       "640504787\n",
       "746354116\n",
       "447105454\n",
       "753063331\n",
       "\u001b[33m...\u001b[39m\n",
       "\u001b[36marr3\u001b[39m: \u001b[32mString\u001b[39m = \u001b[32m\"\"\"\n",
       "508000967\n",
       "495693922\n",
       "614325602\n",
       "363757390\n",
       "383364585\n",
       "831458083\n",
       "155895950\n",
       "420069472\n",
       "865282363\n",
       "846886248\n",
       "792823008\n",
       "\u001b[33m...\u001b[39m\n",
       "\u001b[36msource1\u001b[39m: \u001b[32mio\u001b[39m.\u001b[32mBufferedSource\u001b[39m = empty iterator\n",
       "\u001b[36mtokens1\u001b[39m: \u001b[32mArray\u001b[39m[\u001b[32mString\u001b[39m] = \u001b[33mArray\u001b[39m(\n",
       "  \u001b[32m\"546437325\"\u001b[39m,\n",
       "  \u001b[32m\"893189154\"\u001b[39m,\n",
       "  \u001b[32m\"726009211\"\u001b[39m,\n",
       "  \u001b[32m\"245638421\"\u001b[39m,\n",
       "  \u001b[32m\"852698713\"\u001b[39m,\n",
       "  \u001b[32m\"698221463\"\u001b[39m,\n",
       "  \u001b[32m\"548327477\"\u001b[39m,\n",
       "  \u001b[32m\"844053149\"\u001b[39m,\n",
       "  \u001b[32m\"644058899\"\u001b[39m,\n",
       "  \u001b[32m\"461425427\"\u001b[39m,\n",
       "  \u001b[32m\"446291870\"\u001b[39m,\n",
       "\u001b[33m...\u001b[39m\n",
       "\u001b[36mnums1\u001b[39m: \u001b[32mArray\u001b[39m[\u001b[32mLong\u001b[39m] = \u001b[33mArray\u001b[39m(\n",
       "  \u001b[32m546437325L\u001b[39m,\n",
       "  \u001b[32m893189154L\u001b[39m,\n",
       "  \u001b[32m726009211L\u001b[39m,\n",
       "  \u001b[32m245638421L\u001b[39m,\n",
       "  \u001b[32m852698713L\u001b[39m,\n",
       "  \u001b[32m698221463L\u001b[39m,\n",
       "  \u001b[32m548327477L\u001b[39m,\n",
       "  \u001b[32m844053149L\u001b[39m,\n",
       "  \u001b[32m644058899L\u001b[39m,\n",
       "  \u001b[32m461425427L\u001b[39m,\n",
       "  \u001b[32m446291870L\u001b[39m,\n",
       "\u001b[33m...\u001b[39m\n",
       "\u001b[36mt01\u001b[39m: \u001b[32mLong\u001b[39m = \u001b[32m12561172497966L\u001b[39m\n",
       "\u001b[36mavg1\u001b[39m: \u001b[32mLong\u001b[39m = \u001b[32m562432928L\u001b[39m\n",
       "\u001b[36mtemp1\u001b[39m: \u001b[32mcollection\u001b[39m.\u001b[32mmutable\u001b[39m.\u001b[32mBuffer\u001b[39m[\u001b[32mLong\u001b[39m] = \u001b[33mArrayBuffer\u001b[39m(\n",
       "  \u001b[32m929261L\u001b[39m,\n",
       "  \u001b[32m2070015L\u001b[39m,\n",
       "  \u001b[32m2835619L\u001b[39m,\n",
       "  \u001b[32m3347898L\u001b[39m,\n",
       "  \u001b[32m5358008L\u001b[39m,\n",
       "  \u001b[32m6547106L\u001b[39m,\n",
       "  \u001b[32m7447800L\u001b[39m,\n",
       "  \u001b[32m8691266L\u001b[39m,\n",
       "  \u001b[32m9017360L\u001b[39m,\n",
       "  \u001b[32m10180983L\u001b[39m,\n",
       "  \u001b[32m10889051L\u001b[39m,\n",
       "\u001b[33m...\u001b[39m\n",
       "\u001b[36mmed1\u001b[39m: \u001b[32mLong\u001b[39m = \u001b[32m586074514L\u001b[39m\n",
       "\u001b[36mt11\u001b[39m: \u001b[32mLong\u001b[39m = \u001b[32m12561177693370L\u001b[39m\n",
       "\u001b[36msource2\u001b[39m: \u001b[32mio\u001b[39m.\u001b[32mBufferedSource\u001b[39m = empty iterator\n",
       "\u001b[36mtokens2\u001b[39m: \u001b[32mArray\u001b[39m[\u001b[32mString\u001b[39m] = \u001b[33mArray\u001b[39m(\n",
       "  \u001b[32m\"1027155436\"\u001b[39m,\n",
       "  \u001b[32m\"350480921\"\u001b[39m,\n",
       "  \u001b[32m\"19088941\"\u001b[39m,\n",
       "  \u001b[32m\"597776410\"\u001b[39m,\n",
       "  \u001b[32m\"779639926\"\u001b[39m,\n",
       "  \u001b[32m\"884391084\"\u001b[39m,\n",
       "  \u001b[32m\"467040257\"\u001b[39m,\n",
       "  \u001b[32m\"640504787\"\u001b[39m,\n",
       "  \u001b[32m\"746354116\"\u001b[39m,\n",
       "  \u001b[32m\"447105454\"\u001b[39m,\n",
       "  \u001b[32m\"753063331\"\u001b[39m,\n",
       "\u001b[33m...\u001b[39m\n",
       "\u001b[36mnums2\u001b[39m: \u001b[32mArray\u001b[39m[\u001b[32mLong\u001b[39m] = \u001b[33mArray\u001b[39m(\n",
       "  \u001b[32m1027155436L\u001b[39m,\n",
       "  \u001b[32m350480921L\u001b[39m,\n",
       "  \u001b[32m19088941L\u001b[39m,\n",
       "  \u001b[32m597776410L\u001b[39m,\n",
       "  \u001b[32m779639926L\u001b[39m,\n",
       "  \u001b[32m884391084L\u001b[39m,\n",
       "  \u001b[32m467040257L\u001b[39m,\n",
       "  \u001b[32m640504787L\u001b[39m,\n",
       "  \u001b[32m746354116L\u001b[39m,\n",
       "  \u001b[32m447105454L\u001b[39m,\n",
       "  \u001b[32m753063331L\u001b[39m,\n",
       "\u001b[33m...\u001b[39m\n",
       "\u001b[36mt02\u001b[39m: \u001b[32mLong\u001b[39m = \u001b[32m12561265924380L\u001b[39m\n",
       "\u001b[36mavg2\u001b[39m: \u001b[32mLong\u001b[39m = \u001b[32m537402465L\u001b[39m\n",
       "\u001b[36mtemp2\u001b[39m: \u001b[32mcollection\u001b[39m.\u001b[32mmutable\u001b[39m.\u001b[32mBuffer\u001b[39m[\u001b[32mLong\u001b[39m] = \u001b[33mArrayBuffer\u001b[39m(\n",
       "  \u001b[32m3143L\u001b[39m,\n",
       "  \u001b[32m49771L\u001b[39m,\n",
       "  \u001b[32m68260L\u001b[39m,\n",
       "  \u001b[32m70571L\u001b[39m,\n",
       "  \u001b[32m77190L\u001b[39m,\n",
       "  \u001b[32m78035L\u001b[39m,\n",
       "  \u001b[32m87217L\u001b[39m,\n",
       "  \u001b[32m91568L\u001b[39m,\n",
       "  \u001b[32m91735L\u001b[39m,\n",
       "  \u001b[32m93933L\u001b[39m,\n",
       "  \u001b[32m116704L\u001b[39m,\n",
       "\u001b[33m...\u001b[39m\n",
       "\u001b[36mmed2\u001b[39m: \u001b[32mLong\u001b[39m = \u001b[32m536544954L\u001b[39m\n",
       "\u001b[36mt12\u001b[39m: \u001b[32mLong\u001b[39m = \u001b[32m12561372074047L\u001b[39m\n",
       "\u001b[36msource3\u001b[39m: \u001b[32mio\u001b[39m.\u001b[32mBufferedSource\u001b[39m = empty iterator\n",
       "\u001b[36mtokens3\u001b[39m: \u001b[32mArray\u001b[39m[\u001b[32mString\u001b[39m] = \u001b[33mArray\u001b[39m(\n",
       "  \u001b[32m\"508000967\"\u001b[39m,\n",
       "  \u001b[32m\"495693922\"\u001b[39m,\n",
       "  \u001b[32m\"614325602\"\u001b[39m,\n",
       "  \u001b[32m\"363757390\"\u001b[39m,\n",
       "  \u001b[32m\"383364585\"\u001b[39m,\n",
       "  \u001b[32m\"831458083\"\u001b[39m,\n",
       "  \u001b[32m\"155895950\"\u001b[39m,\n",
       "  \u001b[32m\"420069472\"\u001b[39m,\n",
       "  \u001b[32m\"865282363\"\u001b[39m,\n",
       "  \u001b[32m\"846886248\"\u001b[39m,\n",
       "  \u001b[32m\"792823008\"\u001b[39m,\n",
       "\u001b[33m...\u001b[39m\n",
       "\u001b[36mnums3\u001b[39m: \u001b[32mArray\u001b[39m[\u001b[32mLong\u001b[39m] = \u001b[33mArray\u001b[39m(\n",
       "  \u001b[32m508000967L\u001b[39m,\n",
       "  \u001b[32m495693922L\u001b[39m,\n",
       "  \u001b[32m614325602L\u001b[39m,\n",
       "  \u001b[32m363757390L\u001b[39m,\n",
       "  \u001b[32m383364585L\u001b[39m,\n",
       "  \u001b[32m831458083L\u001b[39m,\n",
       "  \u001b[32m155895950L\u001b[39m,\n",
       "  \u001b[32m420069472L\u001b[39m,\n",
       "  \u001b[32m865282363L\u001b[39m,\n",
       "  \u001b[32m846886248L\u001b[39m,\n",
       "  \u001b[32m792823008L\u001b[39m,\n",
       "\u001b[33m...\u001b[39m\n",
       "\u001b[36mt03\u001b[39m: \u001b[32mLong\u001b[39m = \u001b[32m12572837765727L\u001b[39m\n",
       "\u001b[36mavg3\u001b[39m: \u001b[32mLong\u001b[39m = \u001b[32m536940190L\u001b[39m\n",
       "\u001b[36mtemp3\u001b[39m: \u001b[32mcollection\u001b[39m.\u001b[32mmutable\u001b[39m.\u001b[32mBuffer\u001b[39m[\u001b[32mLong\u001b[39m] = \u001b[33mArrayBuffer\u001b[39m(\n",
       "  \u001b[32m55L\u001b[39m,\n",
       "  \u001b[32m136L\u001b[39m,\n",
       "  \u001b[32m158L\u001b[39m,\n",
       "  \u001b[32m167L\u001b[39m,\n",
       "  \u001b[32m442L\u001b[39m,\n",
       "  \u001b[32m665L\u001b[39m,\n",
       "  \u001b[32m700L\u001b[39m,\n",
       "  \u001b[32m993L\u001b[39m,\n",
       "  \u001b[32m1089L\u001b[39m,\n",
       "  \u001b[32m1119L\u001b[39m,\n",
       "  \u001b[32m1152L\u001b[39m,\n",
       "\u001b[33m...\u001b[39m\n",
       "\u001b[36mmed3\u001b[39m: \u001b[32mLong\u001b[39m = \u001b[32m536983426L\u001b[39m\n",
       "\u001b[36mt13\u001b[39m: \u001b[32mLong\u001b[39m = \u001b[32m12586834932842L\u001b[39m"
      ]
     },
     "execution_count": 2,
     "metadata": {},
     "output_type": "execute_result"
    }
   ],
   "source": [
    "val arr1 = randomInts(1000, Int.MaxValue/2).mkString(\"\\n\")\n",
    "val arr2 = randomInts(100000, Int.MaxValue/2).mkString(\"\\n\")\n",
    "val arr3 = randomInts(10000000, Int.MaxValue/2).mkString(\"\\n\")\n",
    "\n",
    "scala.tools.nsc.io.File(\"file1.txt\").writeAll(arr1)\n",
    "scala.tools.nsc.io.File(\"file2.txt\").writeAll(arr2)\n",
    "scala.tools.nsc.io.File(\"file3.txt\").writeAll(arr3)\n",
    "\n",
    "// file 1\n",
    "val source1 = scala.io.Source.fromFile(\"file1.txt\", \"UTF-8\")\n",
    "val tokens1 = source1.mkString.split(\"\\\\s+\")\n",
    "val nums1 = tokens1.map(_.toLong)\n",
    "val t01 = System.nanoTime()\n",
    "val avg1: Long = nums1.sum/nums1.length\n",
    "var temp1 = nums1.toBuffer.sorted\n",
    "val med1 = temp1((nums1.length/2)-1)\n",
    "val t11 = System.nanoTime()\n",
    "println(f\"File 1 Time: ${t11-t01} (ns)\")\n",
    "println(f\"File 1 Average: $avg1\")\n",
    "println(f\"File 1 Median: $med1 \\n\")\n",
    "\n",
    "// file 2\n",
    "val source2 = scala.io.Source.fromFile(\"file2.txt\", \"UTF-8\")\n",
    "val tokens2 = source2.mkString.split(\"\\\\s+\")\n",
    "val nums2 = tokens2.map(_.toLong)\n",
    "val t02 = System.nanoTime()\n",
    "val avg2: Long = nums2.sum/nums2.length\n",
    "var temp2 = nums2.toBuffer.sorted\n",
    "val med2 = temp2((nums2.length/2)-1)\n",
    "val t12 = System.nanoTime()\n",
    "println(f\"File 2 Time: ${t12-t02} (ns)\")\n",
    "println(f\"File 2 Average: $avg2\")\n",
    "println(f\"File 2 Median: $med2 \\n\")\n",
    "\n",
    "// file 3\n",
    "val source3 = scala.io.Source.fromFile(\"file3.txt\", \"UTF-8\")\n",
    "val tokens3 = source3.mkString.split(\"\\\\s+\")\n",
    "val nums3 = tokens3.map(_.toLong)\n",
    "val t03 = System.nanoTime()\n",
    "val avg3: Long = nums3.sum/nums3.length\n",
    "var temp3 = nums3.toBuffer.sorted\n",
    "val med3 = temp3((nums3.length/2)-1)\n",
    "val t13 = System.nanoTime()\n",
    "println(f\"File 3 Time: ${t13-t03} (ns)\")\n",
    "println(f\"File 3 Average: $avg3\")\n",
    "println(f\"File 3 Median: $med3 \\n\")"
   ]
  },
  {
   "cell_type": "markdown",
   "metadata": {},
   "source": [
    "## 9.  \n",
    "Write a function minmax(values: Array[Int]) that returns a pair containing the smallest and\n",
    "the largest values in the array."
   ]
  },
  {
   "cell_type": "code",
   "execution_count": 185,
   "metadata": {},
   "outputs": [
    {
     "data": {
      "text/plain": [
       "defined \u001b[32mfunction\u001b[39m \u001b[36mminmax\u001b[39m"
      ]
     },
     "execution_count": 185,
     "metadata": {},
     "output_type": "execute_result"
    }
   ],
   "source": [
    "def minmax(values: Array[Int]) = (values.min, values.max)"
   ]
  },
  {
   "cell_type": "code",
   "execution_count": 186,
   "metadata": {},
   "outputs": [
    {
     "data": {
      "text/plain": [
       "\u001b[36mres185\u001b[39m: (\u001b[32mInt\u001b[39m, \u001b[32mInt\u001b[39m) = (\u001b[32m2\u001b[39m, \u001b[32m9\u001b[39m)"
      ]
     },
     "execution_count": 186,
     "metadata": {},
     "output_type": "execute_result"
    }
   ],
   "source": [
    "minmax(Array(2, 5, 6, 6, 9))"
   ]
  },
  {
   "cell_type": "markdown",
   "metadata": {},
   "source": [
    "## 10.  \n",
    "Make a class Car with read-only properties for manufacturer, model name, and model year,\n",
    "and a read-write property for the license plate. Supply four constructors. All require the\n",
    "manufacturer and model name. Optionally, model year and license plate can also be speci-\n",
    "fied in the constructor. If not, the model year is set to -1 and the license plate to the empty\n",
    "string. Which constructor are you choosing as the primary constructor? Why?"
   ]
  },
  {
   "cell_type": "code",
   "execution_count": 13,
   "metadata": {},
   "outputs": [
    {
     "name": "stdout",
     "output_type": "stream",
     "text": [
      "Tesla, Model 3, 2017, Boss\n",
      "Tesla, Model 3, 2017, Boss\n",
      "Tesla, Model 3, -1, Boss\n",
      "Tesla, Model 3, 2017, \n"
     ]
    },
    {
     "data": {
      "text/plain": [
       "defined \u001b[32mclass\u001b[39m \u001b[36mCar\u001b[39m\n",
       "\u001b[36mc1\u001b[39m: \u001b[32mwrapper\u001b[39m.\u001b[32mwrapper\u001b[39m.\u001b[32mCar\u001b[39m = $sess.cmd12Wrapper$Helper$Car@7d4837c3\n",
       "\u001b[36mc2\u001b[39m: \u001b[32mwrapper\u001b[39m.\u001b[32mwrapper\u001b[39m.\u001b[32mCar\u001b[39m = $sess.cmd12Wrapper$Helper$Car@37fd2ba8\n",
       "\u001b[36mc3\u001b[39m: \u001b[32mwrapper\u001b[39m.\u001b[32mwrapper\u001b[39m.\u001b[32mCar\u001b[39m = $sess.cmd12Wrapper$Helper$Car@3d9cabc6\n",
       "\u001b[36mc4\u001b[39m: \u001b[32mwrapper\u001b[39m.\u001b[32mwrapper\u001b[39m.\u001b[32mCar\u001b[39m = $sess.cmd12Wrapper$Helper$Car@e899e9f"
      ]
     },
     "execution_count": 13,
     "metadata": {},
     "output_type": "execute_result"
    }
   ],
   "source": [
    "class Car(val manufacturer: String, val model: String, val year: Int, var plate: String) {\n",
    "    //LINE BELOW WAS MY FIRST CONCEPT FOR THIS AND IT WORKS\n",
    "    //class Car(val manufacturer: String, val model: String, val year: Int = -1, var plate: String = \"\")\n",
    "    //I had to look this question's specific method up after multiple attempts, I got close\n",
    "    //reference: https://gist.github.com/parambirs/c7ec10306b1bedb7a7bd\n",
    "    \n",
    "    def this(manufacturer: String, model: String, plate: String) = {\n",
    "        this(manufacturer, model, -1, plate)\n",
    "    }\n",
    "    \n",
    "    def this(manufacturer: String, model: String, year: Int) = {\n",
    "        this(manufacturer, model, year, \"\")\n",
    "    }\n",
    "    \n",
    "    def this(manufacturer: String, model: String) = {\n",
    "        this(manufacturer, model, -1, \"\")\n",
    "    }    \n",
    "}\n",
    "\n",
    "val c1 = new Car(\"Tesla\", \"Model 3\", 2017, \"Boss\")\n",
    "val c2 = new Car(\"Tesla\", \"Model 3\", 2017, \"Boss\")\n",
    "val c3 = new Car(\"Tesla\", \"Model 3\", \"Boss\")\n",
    "val c4 = new Car(\"Tesla\", \"Model 3\", 2017)\n",
    "\n",
    "println(c1.manufacturer + \", \" + c1.model + \", \" + c1.year + \", \" + c1.plate)\n",
    "println(c2.manufacturer + \", \" + c2.model + \", \" + c2.year + \", \" + c2.plate)\n",
    "println(c3.manufacturer + \", \" + c3.model + \", \" + c3.year + \", \" + c3.plate)\n",
    "println(c4.manufacturer + \", \" + c4.model + \", \" + c4.year + \", \" + c4.plate)"
   ]
  },
  {
   "cell_type": "code",
   "execution_count": null,
   "metadata": {
    "collapsed": true
   },
   "outputs": [],
   "source": []
  }
 ],
 "metadata": {
  "kernelspec": {
   "display_name": "Scala",
   "language": "scala",
   "name": "scala"
  },
  "language_info": {
   "codemirror_mode": "text/x-scala",
   "file_extension": ".scala",
   "mimetype": "text/x-scala",
   "name": "scala211",
   "nbconvert_exporter": "script",
   "pygments_lexer": "scala",
   "version": "2.11.11"
  }
 },
 "nbformat": 4,
 "nbformat_minor": 2
}
