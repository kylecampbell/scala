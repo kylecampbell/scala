{
 "cells": [
  {
   "cell_type": "markdown",
   "metadata": {},
   "source": [
    "# 1.  \n",
    "If we list all the natural numbers below 20 that are multiples of 3 or 5 but not multiples both\n",
    "of 3 and 5, we get 3, 5, 6, 9, 10, 12, 18. The sum of these multiples is 63. Write a function,\n",
    "sum_multiples_3_5, that returns the sum of the multiples of 3 and 5 but not both less than\n",
    "N."
   ]
  },
  {
   "cell_type": "code",
   "execution_count": 115,
   "metadata": {},
   "outputs": [
    {
     "data": {
      "text/plain": [
       "defined \u001b[32mfunction\u001b[39m \u001b[36msum_multiples_3_5\u001b[39m"
      ]
     },
     "execution_count": 115,
     "metadata": {},
     "output_type": "execute_result"
    }
   ],
   "source": [
    "def sum_multiples_3_5(N: Int) = {\n",
    "    var sum = 0\n",
    "    (0 to N-1).map(i => if ( (!((i%3==0) && (i%5==0))) && ((i%3==0) || (i%5==0)) ) sum+=i)\n",
    "    sum\n",
    "}\n",
    "assert(sum_multiples_3_5(4) == 3)\n",
    "assert(sum_multiples_3_5(6) == 3+5)\n",
    "assert(sum_multiples_3_5(7) == 3+5+6)\n",
    "assert(sum_multiples_3_5(10)== 3+5+6+9)"
   ]
  },
  {
   "cell_type": "code",
   "execution_count": 114,
   "metadata": {},
   "outputs": [
    {
     "data": {
      "text/plain": [
       "\u001b[36mres113_0\u001b[39m: \u001b[32mInt\u001b[39m = \u001b[32m45\u001b[39m\n",
       "\u001b[36mres113_1\u001b[39m: \u001b[32mInt\u001b[39m = \u001b[32m63\u001b[39m\n",
       "\u001b[36mres113_2\u001b[39m: \u001b[32mInt\u001b[39m = \u001b[32m128\u001b[39m"
      ]
     },
     "execution_count": 114,
     "metadata": {},
     "output_type": "execute_result"
    }
   ],
   "source": [
    "sum_multiples_3_5(15)\n",
    "sum_multiples_3_5(20)\n",
    "sum_multiples_3_5(25)"
   ]
  },
  {
   "cell_type": "markdown",
   "metadata": {},
   "source": [
    "# 2.  \n",
    "Write a function, patternCount with two arguments. The first arguments is a string, lets call\n",
    "it text, and the second argument is also a string, call it pattern. The function patternCount\n",
    "returns the number of times the pattern occurs in the text. For example  \n",
    "  * pattern_count(“abababa”, “aba”) == 3  \n",
    "  * pattern_count(“aaaaa”, “aa”) == 4  \n",
    "  * pattern_count(“Abcde”, “abc”) == 0"
   ]
  },
  {
   "cell_type": "code",
   "execution_count": 47,
   "metadata": {},
   "outputs": [
    {
     "data": {
      "text/plain": [
       "defined \u001b[32mfunction\u001b[39m \u001b[36mpatternCount\u001b[39m"
      ]
     },
     "execution_count": 47,
     "metadata": {},
     "output_type": "execute_result"
    }
   ],
   "source": [
    "def patternCount(text: String, pattern: String) = {\n",
    "    var count = 0\n",
    "    val lenPat = pattern.length\n",
    "    (0 to text.length-lenPat).map(i => if (text.slice(i, i+lenPat)==pattern) count+=1)\n",
    "    count\n",
    "}\n",
    "assert(patternCount(\"abababa\", \"aba\") == 3)\n",
    "assert(patternCount(\"aaaaa\", \"aa\") == 4)\n",
    "assert(patternCount(\"Abcde\", \"abc\") == 0)"
   ]
  },
  {
   "cell_type": "markdown",
   "metadata": {},
   "source": [
    "# 3.  \n",
    "Implement factorial using “to” and “reduceLeft” without a loop or recursion."
   ]
  },
  {
   "cell_type": "code",
   "execution_count": 54,
   "metadata": {},
   "outputs": [
    {
     "data": {
      "text/plain": [
       "defined \u001b[32mfunction\u001b[39m \u001b[36mfactorial\u001b[39m"
      ]
     },
     "execution_count": 54,
     "metadata": {},
     "output_type": "execute_result"
    }
   ],
   "source": [
    "def factorial(N: Int): scala.math.BigInt = (1 to N).reduceLeft(_ * _)\n",
    "\n",
    "assert(factorial(1) == 1)\n",
    "assert(factorial(2) == 1*2)\n",
    "assert(factorial(3) == 1*2*3)\n",
    "assert(factorial(4) == 1*2*3*4)"
   ]
  },
  {
   "cell_type": "code",
   "execution_count": 55,
   "metadata": {},
   "outputs": [
    {
     "data": {
      "text/plain": [
       "\u001b[36mres54\u001b[39m: \u001b[32mBigInt\u001b[39m = 120"
      ]
     },
     "execution_count": 55,
     "metadata": {},
     "output_type": "execute_result"
    }
   ],
   "source": [
    "factorial(5)"
   ]
  },
  {
   "cell_type": "markdown",
   "metadata": {},
   "source": [
    "# 4.  \n",
    "Write a function that receives a collection of strings and a map from strings to integers. Return\n",
    "a collection of integers that are values of the map corresponding to one of the strings\n",
    "in the collection. For example, given Array(\"Tom\", \"Fred\", \"Harry\") and Map(\"Tom\" -> 3,\n",
    "\"Dick\" -> 4, \"Harry\" -> 5), return Array(3, 5)."
   ]
  },
  {
   "cell_type": "code",
   "execution_count": 76,
   "metadata": {},
   "outputs": [
    {
     "data": {
      "text/plain": [
       "defined \u001b[32mfunction\u001b[39m \u001b[36mmap_strings_to_ints\u001b[39m"
      ]
     },
     "execution_count": 76,
     "metadata": {},
     "output_type": "execute_result"
    }
   ],
   "source": [
    "def map_strings_to_ints(arr: Array[String], myMap: Map[String, Int]) = {\n",
    "    val result = new scala.collection.mutable.ArrayBuffer[Int]\n",
    "    (0 to arr.length-1).map( i => if (myMap.keysIterator.contains(arr(i))==true) result += myMap(arr(i)) )\n",
    "    result\n",
    "    }"
   ]
  },
  {
   "cell_type": "code",
   "execution_count": 77,
   "metadata": {},
   "outputs": [
    {
     "data": {
      "text/plain": [
       "\u001b[36marr\u001b[39m: \u001b[32mArray\u001b[39m[\u001b[32mString\u001b[39m] = \u001b[33mArray\u001b[39m(\u001b[32m\"Tom\"\u001b[39m, \u001b[32m\"Fred\"\u001b[39m, \u001b[32m\"Harry\"\u001b[39m)\n",
       "\u001b[36mmyMap\u001b[39m: \u001b[32mMap\u001b[39m[\u001b[32mString\u001b[39m, \u001b[32mInt\u001b[39m] = \u001b[33mMap\u001b[39m(\u001b[32m\"Tom\"\u001b[39m -> \u001b[32m3\u001b[39m, \u001b[32m\"Dick\"\u001b[39m -> \u001b[32m4\u001b[39m, \u001b[32m\"Harry\"\u001b[39m -> \u001b[32m5\u001b[39m)\n",
       "\u001b[36mres76_2\u001b[39m: \u001b[32mcollection\u001b[39m.\u001b[32mmutable\u001b[39m.\u001b[32mArrayBuffer\u001b[39m[\u001b[32mInt\u001b[39m] = \u001b[33mArrayBuffer\u001b[39m(\u001b[32m3\u001b[39m, \u001b[32m5\u001b[39m)"
      ]
     },
     "execution_count": 77,
     "metadata": {},
     "output_type": "execute_result"
    }
   ],
   "source": [
    "val arr = Array(\"Tom\", \"Fred\", \"Harry\")\n",
    "val myMap = Map(\"Tom\" -> 3, \"Dick\" -> 4, \"Harry\" -> 5)\n",
    "\n",
    "map_strings_to_ints(arr, myMap)"
   ]
  },
  {
   "cell_type": "markdown",
   "metadata": {},
   "source": [
    "# 5.  \n",
    "Implement a function sampleNoRepeats with two arguments. The first argument is a range,\n",
    "the second an integer, n, greater that zero. The function returns n random numbers in the\n",
    "given range with no repeats"
   ]
  },
  {
   "cell_type": "code",
   "execution_count": 111,
   "metadata": {},
   "outputs": [
    {
     "data": {
      "text/plain": [
       "defined \u001b[32mfunction\u001b[39m \u001b[36msampleNoRepeats\u001b[39m"
      ]
     },
     "execution_count": 111,
     "metadata": {},
     "output_type": "execute_result"
    }
   ],
   "source": [
    "def sampleNoRepeats(range: Int, n: Int) = {\n",
    "    var s: Set[Int] = Set()\n",
    "    (1 to n).map(x => s+=(range*math.random).toInt)\n",
    "    while (s.size != n) {\n",
    "        s+=(range*math.random).toInt\n",
    "    }\n",
    "    \n",
    "    assert(s.size == n)\n",
    "    assert(s.size == s.toBuffer.distinct.length)\n",
    "    assert(s.max <= range)\n",
    "    s\n",
    "}"
   ]
  },
  {
   "cell_type": "code",
   "execution_count": 112,
   "metadata": {},
   "outputs": [
    {
     "data": {
      "text/plain": [
       "\u001b[36mres111_0\u001b[39m: \u001b[32mSet\u001b[39m[\u001b[32mInt\u001b[39m] = \u001b[33mSet\u001b[39m(\u001b[32m0\u001b[39m, \u001b[32m5\u001b[39m, \u001b[32m1\u001b[39m, \u001b[32m6\u001b[39m, \u001b[32m9\u001b[39m, \u001b[32m2\u001b[39m, \u001b[32m7\u001b[39m, \u001b[32m3\u001b[39m, \u001b[32m8\u001b[39m, \u001b[32m4\u001b[39m)\n",
       "\u001b[36mres111_1\u001b[39m: \u001b[32mSet\u001b[39m[\u001b[32mInt\u001b[39m] = \u001b[33mSet\u001b[39m(\u001b[32m52\u001b[39m, \u001b[32m29\u001b[39m, \u001b[32m9\u001b[39m, \u001b[32m41\u001b[39m, \u001b[32m66\u001b[39m, \u001b[32m23\u001b[39m, \u001b[32m8\u001b[39m, \u001b[32m75\u001b[39m, \u001b[32m82\u001b[39m, \u001b[32m36\u001b[39m)\n",
       "\u001b[36mres111_2\u001b[39m: \u001b[32mSet\u001b[39m[\u001b[32mInt\u001b[39m] = \u001b[33mSet\u001b[39m(\u001b[32m69\u001b[39m, \u001b[32m20\u001b[39m, \u001b[32m9\u001b[39m, \u001b[32m86\u001b[39m, \u001b[32m35\u001b[39m, \u001b[32m50\u001b[39m, \u001b[32m67\u001b[39m, \u001b[32m72\u001b[39m, \u001b[32m43\u001b[39m, \u001b[32m87\u001b[39m, \u001b[32m8\u001b[39m, \u001b[32m75\u001b[39m, \u001b[32m30\u001b[39m, \u001b[32m19\u001b[39m, \u001b[32m83\u001b[39m)"
      ]
     },
     "execution_count": 112,
     "metadata": {},
     "output_type": "execute_result"
    }
   ],
   "source": [
    "sampleNoRepeats(10, 10)\n",
    "sampleNoRepeats(100, 10)\n",
    "sampleNoRepeats(100, 15)"
   ]
  },
  {
   "cell_type": "markdown",
   "metadata": {},
   "source": [
    "# 6.  \n",
    "Create an array with random 100,000 integers between 0 and 50,000. Compute the mean\n",
    "value of the array, call it M. Take a random sample of 100 different elements (sampling\n",
    "without replacement) of the array and compute the mean of the sample. What is the error?"
   ]
  },
  {
   "cell_type": "code",
   "execution_count": 97,
   "metadata": {},
   "outputs": [
    {
     "data": {
      "text/plain": [
       "defined \u001b[32mfunction\u001b[39m \u001b[36mrandomSample\u001b[39m"
      ]
     },
     "execution_count": 97,
     "metadata": {},
     "output_type": "execute_result"
    }
   ],
   "source": [
    "def randomSample(n: Int, range: Int, sample: Int) = {\n",
    "    val arr1 = Array.fill(n)(range * math.random).map(_.toLong)\n",
    "    val sampleIndex = sampleNoRepeats(n, sample).toArray.map(_.toLong)\n",
    "    val arr2 = Array.fill(sample)(0).map(_.toLong)\n",
    "    (0 to sample-1).map( i => arr2(i) = arr1(sampleIndex(i).toInt) )\n",
    "    val error: Float = scala.math.abs(arr1.sum/arr1.length-arr2.sum/arr2.length).toFloat\n",
    "    \n",
    "    assert( arr1.length == n )\n",
    "    assert( arr2.length == sample )\n",
    "    assert( arr2(0) == arr1(sampleIndex(0).toInt) )\n",
    "    assert( arr2(1) == arr1(sampleIndex(1).toInt) )\n",
    "    assert( arr2(2) == arr1(sampleIndex(2).toInt) )\n",
    "    \n",
    "    println(f\"M: ${arr1.sum/arr1.length}\")\n",
    "    println(f\"sample M: ${arr2.sum/arr2.length}\")\n",
    "    println(f\"Error: $error\")\n",
    "    println(f\"Percent Error: ${error/(arr1.sum/arr1.length).toFloat * 100}\")\n",
    "    arr1\n",
    "}"
   ]
  },
  {
   "cell_type": "code",
   "execution_count": 98,
   "metadata": {},
   "outputs": [
    {
     "name": "stdout",
     "output_type": "stream",
     "text": [
      "M: 24969\n",
      "sample M: 28334\n",
      "Error: 3365.0\n",
      "Percent Error: 13.476711\n"
     ]
    },
    {
     "data": {
      "text/plain": [
       "\u001b[36marr1\u001b[39m: \u001b[32mArray\u001b[39m[\u001b[32mLong\u001b[39m] = \u001b[33mArray\u001b[39m(\n",
       "  \u001b[32m333L\u001b[39m,\n",
       "  \u001b[32m23429L\u001b[39m,\n",
       "  \u001b[32m34848L\u001b[39m,\n",
       "  \u001b[32m17628L\u001b[39m,\n",
       "  \u001b[32m26421L\u001b[39m,\n",
       "  \u001b[32m4346L\u001b[39m,\n",
       "  \u001b[32m41165L\u001b[39m,\n",
       "  \u001b[32m33971L\u001b[39m,\n",
       "  \u001b[32m43035L\u001b[39m,\n",
       "  \u001b[32m12665L\u001b[39m,\n",
       "  \u001b[32m8860L\u001b[39m,\n",
       "\u001b[33m...\u001b[39m"
      ]
     },
     "execution_count": 98,
     "metadata": {},
     "output_type": "execute_result"
    }
   ],
   "source": [
    "val arr1 = randomSample(100000, 50000, 100)"
   ]
  },
  {
   "cell_type": "markdown",
   "metadata": {},
   "source": [
    "# 7.  \n",
    "Using the same array as in #6 take 1,000 samples of 100 random elements of the array.\n",
    "Compute the mean of each sample. Find the value r where interval (M-r, M+r) contains 95%\n",
    "of the means of the 1000 samples."
   ]
  },
  {
   "cell_type": "code",
   "execution_count": 103,
   "metadata": {},
   "outputs": [
    {
     "data": {
      "text/plain": [
       "defined \u001b[32mfunction\u001b[39m \u001b[36mmoreSamples\u001b[39m"
      ]
     },
     "execution_count": 103,
     "metadata": {},
     "output_type": "execute_result"
    }
   ],
   "source": [
    "def moreSamples(n: Int, range: Int, sampleSZ: Int, sampleNUM: Int, arr1: Array[Long]) = {\n",
    "    val meanArray = Array.fill(sampleNUM)(0).map(_.toLong)\n",
    "    var sum: Double = 0.0\n",
    "    for (iter <- 0 to sampleNUM-1) {\n",
    "        val sampleIndex = sampleNoRepeats(n, sampleSZ).toArray.map(_.toLong)\n",
    "        val arr2 = Array.fill(sampleSZ)(0).map(_.toLong)\n",
    "        (0 to sampleSZ-1).map( i => arr2(i) = arr1(sampleIndex(i).toInt) )\n",
    "        meanArray(iter) = arr2.sum/arr2.length\n",
    "        sum += scala.math.pow( meanArray(iter) - arr1.sum/arr1.length, 2 )\n",
    "    }\n",
    "    val r = 1.96 * scala.math.sqrt( sum/sampleNUM )\n",
    "    \n",
    "    assert( meanArray.length == sampleNUM )\n",
    "    println(f\"M: ${arr1.sum/arr1.length}\")\n",
    "    println(f\"r: $r\")\n",
    "    println(f\"(M-r, M+r): (${arr1.sum/arr1.length-r}, ${arr1.sum/arr1.length+r})\")\n",
    "}"
   ]
  },
  {
   "cell_type": "code",
   "execution_count": 104,
   "metadata": {},
   "outputs": [
    {
     "name": "stdout",
     "output_type": "stream",
     "text": [
      "M: 24969\n",
      "r: 2796.3618435780445\n",
      "(M-r, M+r): (22172.638156421956, 27765.361843578044)\n"
     ]
    }
   ],
   "source": [
    "moreSamples(100000, 50000, 100, 1000, arr1)"
   ]
  },
  {
   "cell_type": "markdown",
   "metadata": {
    "collapsed": true
   },
   "source": [
    "# 8.  \n",
    "Repeat #7 but use the sample size of 1,000 rather than 100."
   ]
  },
  {
   "cell_type": "code",
   "execution_count": 105,
   "metadata": {},
   "outputs": [
    {
     "name": "stdout",
     "output_type": "stream",
     "text": [
      "M: 24969\n",
      "r: 851.0462891015976\n",
      "(M-r, M+r): (24117.953710898404, 25820.046289101596)\n"
     ]
    }
   ],
   "source": [
    "moreSamples(100000, 50000, 1000, 1000, arr1)"
   ]
  },
  {
   "cell_type": "markdown",
   "metadata": {},
   "source": [
    "# 9.  \n",
    "Repeat #8 but use the sample size of 10,000 rather than 100."
   ]
  },
  {
   "cell_type": "code",
   "execution_count": 106,
   "metadata": {},
   "outputs": [
    {
     "name": "stdout",
     "output_type": "stream",
     "text": [
      "M: 24969\n",
      "r: 271.7892289462553\n",
      "(M-r, M+r): (24697.210771053746, 25240.789228946254)\n"
     ]
    }
   ],
   "source": [
    "moreSamples(100000, 50000, 10000, 1000, arr1)"
   ]
  },
  {
   "cell_type": "code",
   "execution_count": null,
   "metadata": {
    "collapsed": true
   },
   "outputs": [],
   "source": []
  }
 ],
 "metadata": {
  "kernelspec": {
   "display_name": "Scala",
   "language": "scala",
   "name": "scala"
  },
  "language_info": {
   "codemirror_mode": "text/x-scala",
   "file_extension": ".scala",
   "mimetype": "text/x-scala",
   "name": "scala211",
   "nbconvert_exporter": "script",
   "pygments_lexer": "scala",
   "version": "2.11.11"
  }
 },
 "nbformat": 4,
 "nbformat_minor": 2
}
